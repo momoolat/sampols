{
 "cells": [
  {
   "cell_type": "code",
   "execution_count": 0,
   "metadata": {
    "application/vnd.databricks.v1+cell": {
     "cellMetadata": {
      "byteLimit": 2048000,
      "rowLimit": 10000
     },
     "inputWidgets": {},
     "nuid": "6efe7e3f-4cf4-4f67-995e-b6c244632199",
     "showTitle": false,
     "tableResultSettingsMap": {},
     "title": ""
    }
   },
   "outputs": [],
   "source": [
    "https://github.com/olatundeolanrewaju/sampols.git"
   ]
  },
  {
   "cell_type": "markdown",
   "metadata": {
    "application/vnd.databricks.v1+cell": {
     "cellMetadata": {},
     "inputWidgets": {},
     "nuid": "db61d1e1-3c85-4b64-8758-e77972825056",
     "showTitle": false,
     "tableResultSettingsMap": {},
     "title": ""
    }
   },
   "source": [
    "\n",
    "## Introduction\n",
    "\n",
    "This notebook outlines the process of setting up **Azure Databricks for `PySpark`** learning, covering key steps such as creating a **Resource Group (RG)**, deploying an **Azure Databricks Workspace (WS)** and configuring **Azure Data Lake Storage Gen2 (ADLS Gen2)**\n",
    "\n",
    "It also introduced the **Medallion Architecture**, which structures data into **Bronze**, **Silver** and **Gold** layers  to enhance data quality and governance. \n",
    "\n",
    "By following this steps, users can efficiently manage and process large datasets using `PySpark` within **Azure Databricks**, leveraging its sizeable and managed **Apache Spark** environment."
   ]
  },
  {
   "cell_type": "code",
   "execution_count": 0,
   "metadata": {
    "application/vnd.databricks.v1+cell": {
     "cellMetadata": {
      "byteLimit": 2048000,
      "rowLimit": 10000
     },
     "inputWidgets": {},
     "nuid": "ec56cbb6-e7f8-4606-a55e-c56f0b71b44c",
     "showTitle": false,
     "tableResultSettingsMap": {},
     "title": ""
    }
   },
   "outputs": [],
   "source": [
    "from IPython.display import display, HTML\n",
    "\n",
    "display(HTML('''\n",
    "<style>\n",
    "    .jp-Cell { \n",
    "        box-shadow: none !important;\n",
    "        border: none !important;\n",
    "    }\n",
    "    .jp-CodeCell {\n",
    "        border: none !important;\n",
    "    }\n",
    "</style>\n",
    "'''))"
   ]
  },
  {
   "cell_type": "code",
   "execution_count": 0,
   "metadata": {
    "application/vnd.databricks.v1+cell": {
     "cellMetadata": {},
     "inputWidgets": {},
     "nuid": "d7a2be67-10a7-4557-a950-231a172fe814",
     "showTitle": false,
     "tableResultSettingsMap": {},
     "title": ""
    }
   },
   "outputs": [],
   "source": [
    "print('no way')\n",
    "\n",
    "checkinggnrtrt"
   ]
  },
  {
   "cell_type": "code",
   "execution_count": 0,
   "metadata": {
    "application/vnd.databricks.v1+cell": {
     "cellMetadata": {},
     "inputWidgets": {},
     "nuid": "b17e851e-c65e-4f28-b523-e69da8657a7a",
     "showTitle": false,
     "tableResultSettingsMap": {},
     "title": ""
    }
   },
   "outputs": [],
   "source": [
    "\n",
    "\n",
    "# 1. Define Connection Properties\n",
    "jdbc_hostname = \"shuhmudh.database.windows.net\"\n",
    "jdbc_database = \"AdventureWorksDB\"  # Replace with your database name\n",
    "jdbc_port = \"1433\"\n",
    "jdbc_url = f\"jdbc:sqlserver://{jdbc_hostname}:{jdbc_port};database={jdbc_database};encrypt=true;trustServerCertificate=false;loginTimeout=30;\"\n",
    "\n",
    "# 2. SQL Authentication\n",
    "jdbc_username = \"sqladmin\"  # Replace with your SQL username\n",
    "jdbc_password = \"Eminem01\"  # Replace with your SQL password"
   ]
  },
  {
   "cell_type": "code",
   "execution_count": 0,
   "metadata": {
    "application/vnd.databricks.v1+cell": {
     "cellMetadata": {
      "byteLimit": 2048000,
      "rowLimit": 10000
     },
     "inputWidgets": {},
     "nuid": "8a0ec357-0a7c-40c0-8c29-ac296d30c921",
     "showTitle": false,
     "tableResultSettingsMap": {},
     "title": ""
    }
   },
   "outputs": [],
   "source": [
    "print('Hello')\n",
    "\n",
    "will this work?"
   ]
  },
  {
   "cell_type": "markdown",
   "metadata": {
    "application/vnd.databricks.v1+cell": {
     "cellMetadata": {},
     "inputWidgets": {},
     "nuid": "d06a5363-9b7f-495e-86aa-80ae0355da3c",
     "showTitle": false,
     "tableResultSettingsMap": {},
     "title": ""
    }
   },
   "source": [
    "TRYING THIS OUT"
   ]
  },
  {
   "cell_type": "code",
   "execution_count": 0,
   "metadata": {
    "application/vnd.databricks.v1+cell": {
     "cellMetadata": {
      "byteLimit": 2048000,
      "rowLimit": 10000
     },
     "inputWidgets": {},
     "nuid": "7b8a104d-6861-4188-9e3e-d24cc84c6e36",
     "showTitle": false,
     "tableResultSettingsMap": {},
     "title": ""
    }
   },
   "outputs": [],
   "source": [
    "# 1. Define Connection Properties\n",
    "jdbc_hostname = \"shuhmudh.database.windows.net\" \n",
    "jdbc_database = \"AdventureWorksDB\"\n",
    "jdbc_port = \"1433\"\n",
    "jdbc_url = f\"jdbc:sqlserver://{jdbc_hostname}:{jdbc_port};database={jdbc_database};encrypt=true;trustServerCertificate=false;\"\n",
    "\n",
    "# 2. SQL Authentication\n",
    "jdbc_username = \"sqladmin\"\n",
    "jdbc_password = \"Eminem01@\"\n",
    "\n",
    "# 3. JDBC Connection Properties\n",
    "connection_properties = {\n",
    "    \"user\": jdbc_username,\n",
    "    \"password\": jdbc_password,\n",
    "    \"driver\": \"com.microsoft.sqlserver.jdbc.SQLServerDriver\"\n",
    "}\n",
    "\n",
    "# 4. Define the Table Name (without subquery)\n",
    "table_name = \"SalesLT.Customer\"  # Replace with your actual table name\n",
    "\n"
   ]
  },
  {
   "cell_type": "markdown",
   "metadata": {
    "application/vnd.databricks.v1+cell": {
     "cellMetadata": {},
     "inputWidgets": {},
     "nuid": "8581edcd-5783-403b-8fac-8e882a684f05",
     "showTitle": false,
     "tableResultSettingsMap": {},
     "title": ""
    }
   },
   "source": []
  },
  {
   "cell_type": "code",
   "execution_count": 0,
   "metadata": {
    "application/vnd.databricks.v1+cell": {
     "cellMetadata": {
      "byteLimit": 2048000,
      "rowLimit": 10000
     },
     "inputWidgets": {},
     "nuid": "99197a1d-6dd6-4212-bf34-317ad726fc33",
     "showTitle": false,
     "tableResultSettingsMap": {},
     "title": ""
    }
   },
   "outputs": [],
   "source": [
    "# 5. Read Data from Azure SQL into a DataFrame\n",
    "df = spark.read.jdbc(url=jdbc_url, table=table_name, properties=connection_properties)"
   ]
  },
  {
   "cell_type": "code",
   "execution_count": 0,
   "metadata": {
    "application/vnd.databricks.v1+cell": {
     "cellMetadata": {
      "byteLimit": 2048000,
      "rowLimit": 10000
     },
     "inputWidgets": {},
     "nuid": "4769eab2-6524-4d49-91a5-23f3f8882691",
     "showTitle": false,
     "tableResultSettingsMap": {},
     "title": ""
    }
   },
   "outputs": [],
   "source": [
    "df.display()"
   ]
  },
  {
   "cell_type": "code",
   "execution_count": 0,
   "metadata": {
    "application/vnd.databricks.v1+cell": {
     "cellMetadata": {},
     "inputWidgets": {},
     "nuid": "47997257-d995-41a3-9f70-f05f80374bb6",
     "showTitle": false,
     "tableResultSettingsMap": {},
     "title": ""
    }
   },
   "outputs": [],
   "source": []
  },
  {
   "cell_type": "code",
   "execution_count": 0,
   "metadata": {
    "application/vnd.databricks.v1+cell": {
     "cellMetadata": {
      "byteLimit": 2048000,
      "rowLimit": 10000
     },
     "inputWidgets": {},
     "nuid": "d35ef542-e828-408d-ae4c-68b80178a16b",
     "showTitle": false,
     "tableResultSettingsMap": {},
     "title": ""
    }
   },
   "outputs": [],
   "source": [
    "query = \"(SELECT TABLE_SCHEMA, TABLE_NAME FROM INFORMATION_SCHEMA.TABLES WHERE TABLE_TYPE = 'BASE TABLE') AS subquery\"\n",
    "\n",
    "# 4. Load Table List into DataFrame\n",
    "dfs = spark.read.jdbc(url=jdbc_url, table=query, properties=connection_properties)\n",
    "\n",
    "# 5. Register Temporary View\n",
    "dfs.createOrReplaceTempView(\"tables_list\")\n",
    "\n",
    "# 6. Query the View to List All Tables\n",
    "tables_df = spark.sql(\"SELECT * FROM tables_list\")\n",
    "\n",
    "# 7. Show Results\n",
    "tables_df.display(truncate=False)"
   ]
  },
  {
   "cell_type": "code",
   "execution_count": 0,
   "metadata": {
    "application/vnd.databricks.v1+cell": {
     "cellMetadata": {
      "byteLimit": 2048000,
      "rowLimit": 10000
     },
     "inputWidgets": {},
     "nuid": "bd2436cb-be61-43ab-b306-692c2a636f82",
     "showTitle": false,
     "tableResultSettingsMap": {},
     "title": ""
    }
   },
   "outputs": [],
   "source": [
    "%python\n",
    "from IPython.display import display, HTML\n",
    "\n",
    "display(HTML('''\n",
    "<style>\n",
    "    .jp-Cell { \n",
    "        box-shadow: none !important;\n",
    "        border: none !important;\n",
    "        padding: 0 !important;\n",
    "        margin: 0 !important;\n",
    "    }\n",
    "    .jp-CodeCell {\n",
    "        border: none !important;\n",
    "        padding: 0 !important;\n",
    "        margin: 0 !important;\n",
    "    }\n",
    "</style>\n",
    "'''))"
   ]
  },
  {
   "cell_type": "code",
   "execution_count": 0,
   "metadata": {
    "application/vnd.databricks.v1+cell": {
     "cellMetadata": {},
     "inputWidgets": {},
     "nuid": "fc1dc9d4-4dea-47e4-9e42-3d08e919de53",
     "showTitle": false,
     "tableResultSettingsMap": {},
     "title": ""
    }
   },
   "outputs": [],
   "source": [
    "dfbbdfb"
   ]
  },
  {
   "cell_type": "code",
   "execution_count": 0,
   "metadata": {
    "application/vnd.databricks.v1+cell": {
     "cellMetadata": {
      "byteLimit": 2048000,
      "rowLimit": 10000
     },
     "inputWidgets": {},
     "nuid": "0bd3907d-2c78-4201-b401-7ada958ebe07",
     "showTitle": false,
     "tableResultSettingsMap": {},
     "title": ""
    }
   },
   "outputs": [],
   "source": [
    "from IPython.display import display, HTML\n",
    "\n",
    "display(HTML('''\n",
    "<style>\n",
    "    .jp-Cell { \n",
    "        box-shadow: none !important;\n",
    "        border: none !important;\n",
    "        padding: 0 !important;\n",
    "        margin: 0 !important;\n",
    "    }\n",
    "    .jp-CodeCell {\n",
    "        border: none !important;\n",
    "        padding: 0 !important;\n",
    "        margin: 0 !important;\n",
    "    }\n",
    "    .jp-InputPrompt, .jp-OutputPrompt {\n",
    "        display: none !important;\n",
    "    }\n",
    "</style>\n",
    "'''))"
   ]
  }
 ],
 "metadata": {
  "application/vnd.databricks.v1+notebook": {
   "computePreferences": null,
   "dashboards": [],
   "environmentMetadata": {
    "base_environment": "",
    "environment_version": "2"
   },
   "language": "python",
   "notebookMetadata": {
    "pythonIndentUnit": 4
   },
   "notebookName": "Untitled Notebook 2025-03-07 21_09_17",
   "widgets": {}
  },
  "language_info": {
   "name": "python"
  }
 },
 "nbformat": 4,
 "nbformat_minor": 0
}
