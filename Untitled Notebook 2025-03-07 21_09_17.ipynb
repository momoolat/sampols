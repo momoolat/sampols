{
 "cells": [
  {
   "cell_type": "code",
   "execution_count": 0,
   "metadata": {
    "application/vnd.databricks.v1+cell": {
     "cellMetadata": {
      "byteLimit": 2048000,
      "rowLimit": 10000
     },
     "inputWidgets": {},
     "nuid": "6efe7e3f-4cf4-4f67-995e-b6c244632199",
     "showTitle": false,
     "tableResultSettingsMap": {},
     "title": ""
    }
   },
   "outputs": [],
   "source": [
    "https://github.com/olatundeolanrewaju/sampols.git"
   ]
  },
  {
   "cell_type": "markdown",
   "metadata": {
    "application/vnd.databricks.v1+cell": {
     "cellMetadata": {},
     "inputWidgets": {},
     "nuid": "db61d1e1-3c85-4b64-8758-e77972825056",
     "showTitle": false,
     "tableResultSettingsMap": {},
     "title": ""
    }
   },
   "source": [
    "\n",
    "## Introduction\n",
    "\n",
    "This notebook outlines the process of setting up **Azure Databricks for `PySpark`** learning, covering key steps such as creating a **Resource Group (RG)**, deploying an **Azure Databricks Workspace (WS)** and configuring **Azure Data Lake Storage Gen2 (ADLS Gen2)**\n",
    "\n",
    "It also introduced the **Medallion Architecture**, which structures data into **Bronze**, **Silver** and **Gold** layers  to enhance data quality and governance. \n",
    "\n",
    "By following this steps, users can efficiently manage and process large datasets using `PySpark` within **Azure Databricks**, leveraging its sizeable and managed **Apache Spark** environment."
   ]
  },
  {
   "cell_type": "code",
   "execution_count": 0,
   "metadata": {
    "application/vnd.databricks.v1+cell": {
     "cellMetadata": {},
     "inputWidgets": {},
     "nuid": "ec56cbb6-e7f8-4606-a55e-c56f0b71b44c",
     "showTitle": false,
     "tableResultSettingsMap": {},
     "title": ""
    }
   },
   "outputs": [],
   "source": []
  }
 ],
 "metadata": {
  "application/vnd.databricks.v1+notebook": {
   "computePreferences": null,
   "dashboards": [],
   "environmentMetadata": {
    "base_environment": "",
    "environment_version": "2"
   },
   "language": "python",
   "notebookMetadata": {
    "pythonIndentUnit": 4
   },
   "notebookName": "Untitled Notebook 2025-03-07 21_09_17",
   "widgets": {}
  },
  "language_info": {
   "name": "python"
  }
 },
 "nbformat": 4,
 "nbformat_minor": 0
}
